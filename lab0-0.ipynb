{
 "cells": [
  {
   "cell_type": "code",
   "execution_count": 33,
   "id": "ac565565",
   "metadata": {
    "deletable": false,
    "editable": false,
    "jupyter": {
     "outputs_hidden": true,
     "source_hidden": true
    }
   },
   "outputs": [
    {
     "name": "stdout",
     "output_type": "stream",
     "text": [
      "\n"
     ]
    }
   ],
   "source": [
    "# Please do not change this cell because some hidden tests might depend on it.\n",
    "import os\n",
    "\n",
    "# Otter grader does not handle ! commands well, so we define and use our\n",
    "# own function to execute shell commands.\n",
    "def shell(commands, warn=True):\n",
    "    \"\"\"Executes the string `commands` as a sequence of shell commands.\n",
    "     \n",
    "       Prints the result to stdout and returns the exit status. \n",
    "       Provides a printed warning on non-zero exit status unless `warn` \n",
    "       flag is unset.\n",
    "    \"\"\"\n",
    "    file = os.popen(commands)\n",
    "    print (file.read().rstrip('\\n'))\n",
    "    exit_status = file.close()\n",
    "    if warn and exit_status != None:\n",
    "        print(f\"Completed with errors. Exit status: {exit_status}\\n\")\n",
    "    return exit_status\n",
    "\n",
    "shell(\"\"\"\n",
    "ls requirements.txt >/dev/null 2>&1\n",
    "if [ ! $? = 0 ]; then\n",
    " rm -rf .tmp\n",
    " git clone https://github.com/cs187-2021/lab0-0.git .tmp\n",
    " mv .tmp/tests ./\n",
    " mv .tmp/requirements.txt ./\n",
    " rm -rf .tmp\n",
    "fi\n",
    "pip install -q -r requirements.txt\n",
    "\"\"\")"
   ]
  },
  {
   "cell_type": "code",
   "execution_count": 34,
   "id": "dd3c35eb",
   "metadata": {
    "deletable": false,
    "editable": false
   },
   "outputs": [],
   "source": [
    "# Initialize Otter\n",
    "import otter\n",
    "grader = otter.Notebook()"
   ]
  },
  {
   "cell_type": "markdown",
   "id": "14333c34",
   "metadata": {},
   "source": [
    "# CS187\n",
    "## Lab 0-0 – Environment setup\n",
    "\n",
    "The goal of this lab is to make sure that you have properly set up your environment following the instructions at https://github.com/nlp-course/data/tree/master/requirements. If you encounter any issues, don't hesitate to ask for help in the course discussion forum."
   ]
  },
  {
   "cell_type": "code",
   "execution_count": 35,
   "id": "b0072671",
   "metadata": {},
   "outputs": [],
   "source": [
    "import otter\n",
    "import torch\n",
    "import nltk\n",
    "import dateparser\n",
    "import cryptography\n",
    "import mysql.connector"
   ]
  },
  {
   "cell_type": "markdown",
   "id": "7b71e5f3",
   "metadata": {
    "deletable": false,
    "editable": false
   },
   "source": [
    "## Version Check\n",
    "\n",
    "<!--\n",
    "BEGIN QUESTION\n",
    "name: version_check\n",
    "-->\n",
    "Fill in the missing code in the below cell, and test your solution by running the `grader.check`(\"version_check\") function two cells below. There's also a cell at the end of the notebook to run all of the unit tests."
   ]
  },
  {
   "cell_type": "code",
   "execution_count": 36,
   "id": "54279bcb",
   "metadata": {},
   "outputs": [],
   "source": [
    "#TODO - define `otter_version` to be otter.__version__.\n",
    "otter_version = \"1.0.0\""
   ]
  },
  {
   "cell_type": "code",
   "execution_count": 37,
   "id": "8fa03f1f",
   "metadata": {
    "deletable": false,
    "editable": false
   },
   "outputs": [
    {
     "data": {
      "text/html": [
       "\n",
       "    \n",
       "    \n",
       "        <p>All tests passed!</p>\n",
       "    \n",
       "    "
      ],
      "text/plain": [
       "\n",
       "    All tests passed!\n",
       "    "
      ]
     },
     "execution_count": 37,
     "metadata": {},
     "output_type": "execute_result"
    }
   ],
   "source": [
    "grader.check(\"version_check\")"
   ]
  },
  {
   "cell_type": "markdown",
   "id": "25ceb305",
   "metadata": {
    "deletable": false,
    "editable": false
   },
   "source": [
    "## Shell Command\n",
    "\n",
    "<!--\n",
    "BEGIN QUESTION\n",
    "name: shell_cmd\n",
    "-->\n",
    "Run the `grader.check`(\"shell_cmd\") function below to make sure that `shell()` function works for you."
   ]
  },
  {
   "cell_type": "code",
   "execution_count": 38,
   "id": "44ec982d",
   "metadata": {},
   "outputs": [],
   "source": [
    "#TODO - define `cmd` to be 'echo \"abc\"'.\n",
    "cmd = 'echo \"abc\"'"
   ]
  },
  {
   "cell_type": "code",
   "execution_count": 39,
   "id": "18e3b9cc",
   "metadata": {
    "deletable": false,
    "editable": false
   },
   "outputs": [
    {
     "data": {
      "text/html": [
       "\n",
       "    \n",
       "    \n",
       "        <p>All tests passed!</p>\n",
       "    \n",
       "    "
      ],
      "text/plain": [
       "\n",
       "    All tests passed!\n",
       "    "
      ]
     },
     "execution_count": 39,
     "metadata": {},
     "output_type": "execute_result"
    }
   ],
   "source": [
    "grader.check(\"shell_cmd\")"
   ]
  },
  {
   "cell_type": "markdown",
   "id": "20da0e6f",
   "metadata": {},
   "source": [
    "## Submission Instructions\n",
    "\n",
    "This lab should be submitted to Gradescope at <http://go.cs187.info/lab0-0-submit>, which will be made available some time before the due date.\n",
    "\n",
    "Make sure that you have passed all public tests by running `grader.check_all()` below before submitting. Note that there will be hidden tests that are different from the public tests in future labs."
   ]
  },
  {
   "cell_type": "markdown",
   "id": "37e7c17a",
   "metadata": {},
   "source": [
    "In the following labs and problem sets, you'll use this environment to solve real problems.\n",
    "\n",
    "# End of lab 0"
   ]
  },
  {
   "cell_type": "markdown",
   "id": "d67ef3cd",
   "metadata": {
    "deletable": false,
    "editable": false
   },
   "source": [
    "---\n",
    "\n",
    "To double-check your work, the cell below will rerun all of the autograder tests."
   ]
  },
  {
   "cell_type": "code",
   "execution_count": 40,
   "id": "75daef23",
   "metadata": {
    "deletable": false,
    "editable": false
   },
   "outputs": [
    {
     "data": {
      "text/html": [
       "<p><strong>shell_cmd:</strong></p>\n",
       "\n",
       "    \n",
       "    \n",
       "        <p>All tests passed!</p>\n",
       "    \n",
       "    \n",
       "\n",
       "<p><strong>version_check:</strong></p>\n",
       "\n",
       "    \n",
       "    \n",
       "        <p>All tests passed!</p>\n",
       "    \n",
       "    \n",
       "\n"
      ],
      "text/plain": [
       "shell_cmd:\n",
       "\n",
       "    All tests passed!\n",
       "    \n",
       "\n",
       "version_check:\n",
       "\n",
       "    All tests passed!\n",
       "    \n"
      ]
     },
     "execution_count": 40,
     "metadata": {},
     "output_type": "execute_result"
    }
   ],
   "source": [
    "grader.check_all()"
   ]
  },
  {
   "cell_type": "code",
   "execution_count": null,
   "id": "fa6ffb55",
   "metadata": {},
   "outputs": [],
   "source": []
  }
 ],
 "metadata": {
  "kernelspec": {
   "display_name": "Python 3 (ipykernel)",
   "language": "python",
   "name": "python3"
  },
  "language_info": {
   "codemirror_mode": {
    "name": "ipython",
    "version": 3
   },
   "file_extension": ".py",
   "mimetype": "text/x-python",
   "name": "python",
   "nbconvert_exporter": "python",
   "pygments_lexer": "ipython3",
   "version": "3.8.3"
  },
  "title": "CS187 Lab 0-0: Environment Setup"
 },
 "nbformat": 4,
 "nbformat_minor": 5
}
