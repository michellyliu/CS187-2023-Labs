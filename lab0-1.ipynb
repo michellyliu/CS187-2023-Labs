{
 "cells": [
  {
   "cell_type": "code",
   "execution_count": 6,
   "id": "8f7dc99d",
   "metadata": {
    "deletable": false,
    "editable": false,
    "jupyter": {
     "outputs_hidden": true,
     "source_hidden": true
    }
   },
   "outputs": [
    {
     "name": "stdout",
     "output_type": "stream",
     "text": [
      "\n"
     ]
    }
   ],
   "source": [
    "# Please do not change this cell because some hidden tests might depend on it.\n",
    "import os\n",
    "\n",
    "# Otter grader does not handle ! commands well, so we define and use our\n",
    "# own function to execute shell commands.\n",
    "def shell(commands, warn=True):\n",
    "    \"\"\"Executes the string `commands` as a sequence of shell commands.\n",
    "     \n",
    "       Prints the result to stdout and returns the exit status. \n",
    "       Provides a printed warning on non-zero exit status unless `warn` \n",
    "       flag is unset.\n",
    "    \"\"\"\n",
    "    file = os.popen(commands)\n",
    "    print (file.read().rstrip('\\n'))\n",
    "    exit_status = file.close()\n",
    "    if warn and exit_status != None:\n",
    "        print(f\"Completed with errors. Exit status: {exit_status}\\n\")\n",
    "    return exit_status\n",
    "\n",
    "shell(\"\"\"\n",
    "ls requirements.txt >/dev/null 2>&1\n",
    "if [ ! $? = 0 ]; then\n",
    " rm -rf .tmp\n",
    " git clone https://github.com/cs187-2021/lab0-1.git .tmp\n",
    " mv .tmp/tests ./\n",
    " mv .tmp/requirements.txt ./\n",
    " rm -rf .tmp\n",
    "fi\n",
    "pip install -q -r requirements.txt\n",
    "\"\"\")"
   ]
  },
  {
   "cell_type": "code",
   "execution_count": 7,
   "id": "542ec0d1",
   "metadata": {
    "deletable": false,
    "editable": false
   },
   "outputs": [],
   "source": [
    "# Initialize Otter\n",
    "import otter\n",
    "grader = otter.Notebook()"
   ]
  },
  {
   "cell_type": "markdown",
   "id": "c2417125",
   "metadata": {
    "tags": [
     "remove_for_latex"
    ]
   },
   "source": [
    "# CS187\n",
    "\n",
    "## Lab 0-1 – Tensors and vectorization"
   ]
  },
  {
   "cell_type": "markdown",
   "id": "ec50527e",
   "metadata": {},
   "source": [
    "Many of the data-heavy approaches to NLP are enabled by advances in parallel processing that make what were once intractable computations practical. This notebook demonstrates the issue and the `torch` technologies that apply to it, especially the \"tensor\" data type.\n",
    "\n",
    "New bits of Python used for the first time in this lab, and which you may therefore want to review, include:\n",
    "\n",
    "* `assert`\n",
    "* `globals`\n",
    "* `len`\n",
    "* `math.inf`\n",
    "* `random.choices`\n",
    "* `timeit.timeit`\n",
    "* `torch.tensor`\n",
    "* `torch.equal`\n",
    "* `torch.rand`\n",
    "* `torch.shape`\n",
    "* `torch.transpose`\n",
    "* `torch.view`\n",
    "* `torch.zeros`\n",
    "* `torch.zeros_like`"
   ]
  },
  {
   "cell_type": "code",
   "execution_count": 8,
   "id": "9f42eeb7",
   "metadata": {},
   "outputs": [],
   "source": [
    "import torch\n",
    "import random\n",
    "\n",
    "from timeit import timeit"
   ]
  },
  {
   "cell_type": "markdown",
   "id": "08749160",
   "metadata": {},
   "source": [
    "Numeric vectors can be implemented in Python in many ways. Most directly, Python provides a built-in `list` data type, which we could use to implement a vector. Here, we generate a couple of example vectors as lists each containing 1000 integers between 0 and 99."
   ]
  },
  {
   "cell_type": "code",
   "execution_count": 47,
   "id": "765216d5",
   "metadata": {},
   "outputs": [],
   "source": [
    "a1 = random.choices(range(100), k=1000)\n",
    "a2 = random.choices(range(100), k=1000)"
   ]
  },
  {
   "cell_type": "markdown",
   "id": "628ab2ae",
   "metadata": {},
   "source": [
    "# An example: dot product\n",
    "\n",
    "The dot product of two vectors $v$ and $w$ is the sum of their componentwise product, $\\sum_i v_i \\cdot w_i$, which can be calculated with a simple for-loop."
   ]
  },
  {
   "cell_type": "code",
   "execution_count": 48,
   "id": "f70c7049",
   "metadata": {},
   "outputs": [],
   "source": [
    "def dotproduct(v, w):\n",
    "    assert len(v) == len(w)\n",
    "    sum = 0\n",
    "    for i in range(len(v)):\n",
    "         sum += v[i] * w[i]\n",
    "    return sum"
   ]
  },
  {
   "cell_type": "code",
   "execution_count": 49,
   "id": "2a1db94f",
   "metadata": {},
   "outputs": [
    {
     "data": {
      "text/plain": [
       "2454084"
      ]
     },
     "execution_count": 49,
     "metadata": {},
     "output_type": "execute_result"
    }
   ],
   "source": [
    "dotproduct_result = dotproduct(a1, a2)\n",
    "dotproduct_result"
   ]
  },
  {
   "cell_type": "markdown",
   "id": "1943f625",
   "metadata": {},
   "source": [
    "We can test the efficiency of this approach to implementing vectors by computing a large dot product many times. (We use the `timeit` function that we imported from the `timeit` library above to return the time in seconds to perform 100,000 repetitions of the dot product computation.)"
   ]
  },
  {
   "cell_type": "code",
   "execution_count": 50,
   "id": "6f5e0ace",
   "metadata": {},
   "outputs": [
    {
     "name": "stdout",
     "output_type": "stream",
     "text": [
      "It took 16.3 seconds.\n"
     ]
    }
   ],
   "source": [
    "example_time = timeit('dotproduct(a1, a2)', number=100000, globals=globals())\n",
    "print(f\"It took {example_time:.3} seconds.\")"
   ]
  },
  {
   "cell_type": "markdown",
   "id": "569f44b0",
   "metadata": {},
   "source": [
    "As it turns out, performing this vector computation is quite slow -- it probably took several seconds -- because the `for` loop over the list data structure computes sequentially. Instead, we can use a data type engineered especially for such vector and array computations to improve performance. Such data types include Python arrays, `numpy` arrays, and [`torch` tensors](https://pytorch.org/docs/stable/tensors.html). The latter are especially designed for the kinds of computations found in machine learning algorithms, so we will use them throughout the course. You can read (a lot) more about tensors in [the official documentation](https://pytorch.org/docs/stable/tensors.html).\n",
    "\n",
    "We construct a couple of one-dimensional tensors for the examples above."
   ]
  },
  {
   "cell_type": "code",
   "execution_count": 51,
   "id": "ff035c48",
   "metadata": {},
   "outputs": [],
   "source": [
    "t1 = torch.tensor(a1)\n",
    "t2 = torch.tensor(a2)"
   ]
  },
  {
   "cell_type": "markdown",
   "id": "3ff7d53c",
   "metadata": {},
   "source": [
    "# Tensor properties\n",
    "\n",
    "Tensors have four characteristics that are especially useful (but potentially confusing when you first start working with them):\n",
    "\n",
    "+ Componentwise operation: Many operations on tensors work component by component instead of all at once.\n",
    "+ Broadcast: Operations can broadcast individual elements to each component of a tensor.\n",
    "+ Reshaping: Tensors can be reshaped to present the same elements in different configurations.\n",
    "+ Special operations: Tensors have methods implementing certain operations especially efficiently.\n",
    "\n",
    "We give examples of each."
   ]
  },
  {
   "cell_type": "markdown",
   "id": "0db3f849",
   "metadata": {},
   "source": [
    "## Componentwise operation\n",
    "\n",
    "Many operations on tensors work [*componentwise*](https://en.wikipedia.org/wiki/Pointwise#Componentwise_operations), that is, separately for each component of the tensor, rather than on the tensor all at once.\n",
    "\n",
    "For instance, when we add two tensors of the same shape with the `+` operator, the summation percolates down to the individual comonents. For example,"
   ]
  },
  {
   "cell_type": "code",
   "execution_count": 52,
   "id": "4d78d99c",
   "metadata": {},
   "outputs": [
    {
     "data": {
      "text/plain": [
       "tensor([5, 7, 9])"
      ]
     },
     "execution_count": 52,
     "metadata": {},
     "output_type": "execute_result"
    }
   ],
   "source": [
    "a3 = [1, 2, 3]\n",
    "a4 = [4, 5, 6]\n",
    "t3 = torch.tensor(a3)\n",
    "t4 = torch.tensor(a4)\n",
    "\n",
    "t3 + t4"
   ]
  },
  {
   "cell_type": "markdown",
   "id": "56b3881b",
   "metadata": {},
   "source": [
    "This is quite different from, say, lists, which perform a completely different operation – concatenation – when summed with the `+` operator."
   ]
  },
  {
   "cell_type": "code",
   "execution_count": 53,
   "id": "40249a37",
   "metadata": {},
   "outputs": [
    {
     "data": {
      "text/plain": [
       "[1, 2, 3, 4, 5, 6]"
      ]
     },
     "execution_count": 53,
     "metadata": {},
     "output_type": "execute_result"
    }
   ],
   "source": [
    "a3 + a4"
   ]
  },
  {
   "cell_type": "markdown",
   "id": "90283713",
   "metadata": {},
   "source": [
    "Similarly, we can compute the elementwise product of two tensors of the same shape."
   ]
  },
  {
   "cell_type": "code",
   "execution_count": 18,
   "id": "6a04e76c",
   "metadata": {},
   "outputs": [
    {
     "data": {
      "text/plain": [
       "tensor([ 4, 10, 18])"
      ]
     },
     "execution_count": 18,
     "metadata": {},
     "output_type": "execute_result"
    }
   ],
   "source": [
    "t3 * t4"
   ]
  },
  {
   "cell_type": "markdown",
   "id": "849dd4e7",
   "metadata": {},
   "source": [
    "## Broadcast\n",
    "\n",
    "Related, adding a scalar to a tensor \"broadcasts\" the scalar addition operation to each element."
   ]
  },
  {
   "cell_type": "code",
   "execution_count": 54,
   "id": "9e2376fc",
   "metadata": {},
   "outputs": [
    {
     "name": "stdout",
     "output_type": "stream",
     "text": [
      "tensor([6, 7, 8])\n",
      "tensor([6, 7, 8])\n"
     ]
    }
   ],
   "source": [
    "print(t3 + 5)\n",
    "print(5 + t3)"
   ]
  },
  {
   "cell_type": "markdown",
   "id": "8d1c1145",
   "metadata": {},
   "source": [
    "Again, compare with how lists work (or actually, don't work). Try uncommenting and running the cell below."
   ]
  },
  {
   "cell_type": "code",
   "execution_count": 55,
   "id": "7011fef1",
   "metadata": {
    "tags": [
     "raises-exception"
    ]
   },
   "outputs": [
    {
     "ename": "TypeError",
     "evalue": "can only concatenate list (not \"int\") to list",
     "output_type": "error",
     "traceback": [
      "\u001b[0;31m---------------------------------------------------------------------------\u001b[0m",
      "\u001b[0;31mTypeError\u001b[0m                                 Traceback (most recent call last)",
      "Cell \u001b[0;32mIn[55], line 1\u001b[0m\n\u001b[0;32m----> 1\u001b[0m \u001b[43ma3\u001b[49m\u001b[43m \u001b[49m\u001b[38;5;241;43m+\u001b[39;49m\u001b[43m \u001b[49m\u001b[38;5;241;43m5\u001b[39;49m\n",
      "\u001b[0;31mTypeError\u001b[0m: can only concatenate list (not \"int\") to list"
     ]
    }
   ],
   "source": [
    "a3 + 5"
   ]
  },
  {
   "cell_type": "markdown",
   "id": "3ee3d2b9",
   "metadata": {},
   "source": [
    "## Reshaping\n",
    "\n",
    "Finally, tensors can be reshaped so that their elements appear in a different configuration. The `view` method is often used to carry out the reshaping. For instance, we start with the following 3 by 4 tensor."
   ]
  },
  {
   "cell_type": "code",
   "execution_count": 56,
   "id": "f1c3183e",
   "metadata": {},
   "outputs": [],
   "source": [
    "t5 = torch.tensor([[11, 12, 13, 14],\n",
    "                   [21, 22, 23, 24],\n",
    "                   [31, 32, 33, 34]])"
   ]
  },
  {
   "cell_type": "markdown",
   "id": "6c204e69",
   "metadata": {},
   "source": [
    "We can tell that `t5` is a 3 by 4 tensor using the `shape` method."
   ]
  },
  {
   "cell_type": "code",
   "execution_count": 57,
   "id": "546b1433",
   "metadata": {},
   "outputs": [
    {
     "data": {
      "text/plain": [
       "torch.Size([3, 4])"
      ]
     },
     "execution_count": 57,
     "metadata": {},
     "output_type": "execute_result"
    }
   ],
   "source": [
    "t5.shape"
   ]
  },
  {
   "cell_type": "markdown",
   "id": "2509a3a5",
   "metadata": {},
   "source": [
    "We can view the elements as a 4 by 3 tensor, or a 2 by 2 by 3 tensor, or a 3 by 1 by 4 tensor."
   ]
  },
  {
   "cell_type": "code",
   "execution_count": 58,
   "id": "c1e297e3",
   "metadata": {},
   "outputs": [
    {
     "name": "stdout",
     "output_type": "stream",
     "text": [
      "tensor([[11, 12, 13],\n",
      "        [14, 21, 22],\n",
      "        [23, 24, 31],\n",
      "        [32, 33, 34]])\n",
      "tensor([[[11, 12, 13],\n",
      "         [14, 21, 22]],\n",
      "\n",
      "        [[23, 24, 31],\n",
      "         [32, 33, 34]]])\n",
      "tensor([[[11, 12, 13, 14]],\n",
      "\n",
      "        [[21, 22, 23, 24]],\n",
      "\n",
      "        [[31, 32, 33, 34]]])\n"
     ]
    }
   ],
   "source": [
    "print(t5.view(4, 3))\n",
    "print(t5.view(2, 2, 3))\n",
    "print(t5.view(3, 1, 4))"
   ]
  },
  {
   "cell_type": "markdown",
   "id": "4b84cefd",
   "metadata": {},
   "source": [
    "## Special operations\n",
    "\n",
    "Tensors have a large set of methods defined on them that work especially efficiently, for instance, taking the sum of the elements, or the minimum."
   ]
  },
  {
   "cell_type": "code",
   "execution_count": 24,
   "id": "062f9964",
   "metadata": {},
   "outputs": [
    {
     "data": {
      "text/plain": [
       "tensor(270)"
      ]
     },
     "execution_count": 24,
     "metadata": {},
     "output_type": "execute_result"
    }
   ],
   "source": [
    "t5.sum()"
   ]
  },
  {
   "cell_type": "code",
   "execution_count": 25,
   "id": "39cce57e",
   "metadata": {},
   "outputs": [
    {
     "data": {
      "text/plain": [
       "tensor(11)"
      ]
     },
     "execution_count": 25,
     "metadata": {},
     "output_type": "execute_result"
    }
   ],
   "source": [
    "t5.min()"
   ]
  },
  {
   "cell_type": "markdown",
   "id": "6de794a9",
   "metadata": {},
   "source": [
    "The `min` method takes the minimum over all the elements in the tensor. But we often want to take the minimum or maximum with respect to a particular dimension, returning a tensor of these optima. For example, given a two-dimensional tensor, to find the minimum for each row, we can take the `min` with respect to the second dimension. (We refer to the row dimension as `1` since dimensions are 0-indexed.) \n",
    "\n",
    "For some intuition (especially helpful as the number of dimensions gets higher and you lose the simple notion of \"rows\" and \"columns\"), think of the `.min` by dimension operation as collapsing that dimension - for example, if you take the `.min(1)` of a $4 \\times 5 \\times 6$ tensor, your output will be a $4 \\times 6$ tensor. \n",
    "\n",
    "The `min` method called in this way returns  a tensor of the various minimum values, along with the indices at which these minima occurred. We can extract the `values` if we are interested only in those. (Feel free to take a look at the `indices` part of the return value to see what that looks like. Does its value make sense?)"
   ]
  },
  {
   "cell_type": "code",
   "execution_count": 63,
   "id": "5b9c6e38",
   "metadata": {},
   "outputs": [
    {
     "data": {
      "text/plain": [
       "tensor([11, 21, 31])"
      ]
     },
     "execution_count": 63,
     "metadata": {},
     "output_type": "execute_result"
    }
   ],
   "source": [
    "t5.min(1).values"
   ]
  },
  {
   "cell_type": "markdown",
   "id": "758aeaa8",
   "metadata": {
    "deletable": false,
    "editable": false
   },
   "source": [
    "<!--\n",
    "BEGIN QUESTION\n",
    "name: max_val\n",
    "-->\n",
    "Define a function to find the maximum values for each column of a two-dimensional tensor."
   ]
  },
  {
   "cell_type": "code",
   "execution_count": 60,
   "id": "4b9f83ce",
   "metadata": {},
   "outputs": [],
   "source": [
    "# TODO -- Implement a function to return the max value of each column, stored in a 1-D tensor.\n",
    "def max_col(v):\n",
    "    col_max = v.max(0).values\n",
    "    return col_max"
   ]
  },
  {
   "cell_type": "code",
   "execution_count": 61,
   "id": "155eea4b",
   "metadata": {
    "deletable": false,
    "editable": false
   },
   "outputs": [
    {
     "data": {
      "text/html": [
       "\n",
       "    \n",
       "    \n",
       "        <p>All tests passed!</p>\n",
       "    \n",
       "    "
      ],
      "text/plain": [
       "\n",
       "    All tests passed!\n",
       "    "
      ]
     },
     "execution_count": 61,
     "metadata": {},
     "output_type": "execute_result"
    }
   ],
   "source": [
    "grader.check(\"max_val\")"
   ]
  },
  {
   "cell_type": "markdown",
   "id": "7b015da2",
   "metadata": {
    "deletable": false,
    "editable": false
   },
   "source": [
    "# Vectorized dot product\n",
    "\n",
    "<!--\n",
    "BEGIN QUESTION\n",
    "name: dotprod\n",
    "-->\n",
    "Using these tensor techniques, and noting the examples above, reimplement a version of `dotproduct` that has no `for` loops. **Hint:** Your code should be *very short*."
   ]
  },
  {
   "cell_type": "code",
   "execution_count": 73,
   "id": "eac7a967",
   "metadata": {},
   "outputs": [],
   "source": [
    "# TODO -- Implement a vectorized dot product, which should be much faster.\n",
    "def dotproduct_v(v1, v2):\n",
    "    dot_product = torch.sum(v1 * v2)\n",
    "    return dot_product "
   ]
  },
  {
   "cell_type": "code",
   "execution_count": 74,
   "id": "51754779",
   "metadata": {
    "deletable": false,
    "editable": false
   },
   "outputs": [
    {
     "data": {
      "text/html": [
       "\n",
       "    \n",
       "    \n",
       "        <p>All tests passed!</p>\n",
       "    \n",
       "    "
      ],
      "text/plain": [
       "\n",
       "    All tests passed!\n",
       "    "
      ]
     },
     "execution_count": 74,
     "metadata": {},
     "output_type": "execute_result"
    }
   ],
   "source": [
    "grader.check(\"dotprod\")"
   ]
  },
  {
   "cell_type": "markdown",
   "id": "bb43bddf",
   "metadata": {},
   "source": [
    "This vectorized version should be *much* faster, perhaps a couple of orders of magnitude."
   ]
  },
  {
   "cell_type": "code",
   "execution_count": 75,
   "id": "a6738896",
   "metadata": {},
   "outputs": [
    {
     "name": "stdout",
     "output_type": "stream",
     "text": [
      "It took 0.559 seconds.\n"
     ]
    }
   ],
   "source": [
    "example_time_v = timeit('dotproduct_v(t1, t2)', number=100000, globals=globals())\n",
    "print(f\"It took {example_time_v:.3} seconds.\")"
   ]
  },
  {
   "cell_type": "markdown",
   "id": "3fa22b47",
   "metadata": {},
   "source": [
    "# Vectorized computations over multidimensional tensors\n",
    "\n",
    "As you saw above, tensors aren't limited to one dimension, and these same vectorization tricks apply to multidimensional tensors. In fact, because of vectorization, we can specify computations over multidimensional tensors that look like the kinds of things you've seen in linear algebra. "
   ]
  },
  {
   "cell_type": "markdown",
   "id": "75316a49",
   "metadata": {},
   "source": [
    "#### An example: all-paths shortest path\n",
    "\n",
    "<img src=\"https://github.com/nlp-course/data/raw/master/Resources/small-graph.png\" width=200 align=right />\n",
    "As a concrete example to give you some practice, consider the algorithm for computing shortest paths in a graph of $n$ nodes. We'll represent the graph as an $n \\times n$ matrix $A$ where $A_{ij}$ is the distance from node $i$ to node $j$. (Thus, this is a directed graph, and the distances needn't be symmetric.) We'll assume that the distance from a node to itself is zero. Here's an example, with distances that happen to be symmetric:"
   ]
  },
  {
   "cell_type": "code",
   "execution_count": 76,
   "id": "383da4c6",
   "metadata": {},
   "outputs": [],
   "source": [
    "from math import inf\n",
    "distances = torch.tensor(\n",
    "              [[0, 1,   2, 6],\n",
    "               [1, 0,   2, inf],\n",
    "               [2, 2,   0, 3],\n",
    "               [6, inf, 3, 0]])"
   ]
  },
  {
   "cell_type": "markdown",
   "id": "4410ba47",
   "metadata": {},
   "source": [
    "(We use `inf` for an infinite distance, that is, for nodes that are not connected with an edge.) \n",
    "\n",
    "In this graph, the distance from node 0 to node 3 is 6, but by going through node 2, we can shorten the path to 5. In general, we define [the *minplus* operation](https://en.wikipedia.org/wiki/Min-plus_matrix_multiplication) ($\\star$) on two square matrices $A$ (of shape $m \\times n$) and $B$ (of shape $n \\times p$):\n",
    "$$(A \\star B)_{ij} = \\min_k A_{ik} + B_{kj}$$\n",
    "As a special case, if $A$ and $B$ are two distance graphs over the same nodes (but perhaps with different distances), then $A \\star B$ is the graph that shows the best way to get from one node to another by traversing an edge from the first graph $A$ and then an edge from the second graph $B$.\n",
    "\n",
    "Here's an implementation of this operation `minplus` using `for` loops."
   ]
  },
  {
   "cell_type": "code",
   "execution_count": 77,
   "id": "8b96b5a7",
   "metadata": {},
   "outputs": [],
   "source": [
    "def minplus_loop(A, B):\n",
    "    (arows, acols), (brows, bcols) = A.size(), B.size()\n",
    "    assert acols == brows\n",
    "\n",
    "    R = torch.zeros(arows, bcols)\n",
    "    for i in range(arows):\n",
    "        for j in range(bcols):\n",
    "            min = torch.tensor(inf)\n",
    "            for k in range(acols):\n",
    "                if A[i,k] + B[k,j] < min:\n",
    "                    min = A[i,k] + B[k,j]\n",
    "            R[i,j] = min\n",
    "    return R"
   ]
  },
  {
   "cell_type": "markdown",
   "id": "a08f5303",
   "metadata": {},
   "source": [
    "Let's test it out on a small rectangular matrix."
   ]
  },
  {
   "cell_type": "code",
   "execution_count": 78,
   "id": "9c870115",
   "metadata": {},
   "outputs": [
    {
     "data": {
      "text/plain": [
       "tensor([[2., 5.],\n",
       "        [5., 8.]])"
      ]
     },
     "execution_count": 78,
     "metadata": {},
     "output_type": "execute_result"
    }
   ],
   "source": [
    "test = torch.tensor([[1, 2, 3], [4, 5, 6]])\n",
    "minplus_loop(test, test.transpose(0, 1))"
   ]
  },
  {
   "cell_type": "markdown",
   "id": "5a6de830",
   "metadata": {},
   "source": [
    "Using this, we can compute some better ways of getting among the nodes in the`distances` graph. For paths of length at most 2, we can compute"
   ]
  },
  {
   "cell_type": "code",
   "execution_count": 79,
   "id": "726302ce",
   "metadata": {},
   "outputs": [
    {
     "data": {
      "text/plain": [
       "tensor([[0., 1., 2., 5.],\n",
       "        [1., 0., 2., 5.],\n",
       "        [2., 2., 0., 3.],\n",
       "        [5., 5., 3., 0.]])"
      ]
     },
     "execution_count": 79,
     "metadata": {},
     "output_type": "execute_result"
    }
   ],
   "source": [
    "minplus_loop(distances, distances)"
   ]
  },
  {
   "cell_type": "markdown",
   "id": "c1bfdb29",
   "metadata": {},
   "source": [
    "Notice that in this graph, the distance from node 0 to node 3 is now only 5 (not 6), and there are also now paths between nodes 1 and 3.\n",
    "\n",
    "We can compute the minimum distance between any two nodes by repeating this minplus process until no further distance reductions are possible and the graph has reached a stable point (the so-called \"fixpoint\"). We return as a Python tuple both the fixpoint graph and the number of rounds of `minplus` that were needed to reach it."
   ]
  },
  {
   "cell_type": "code",
   "execution_count": 80,
   "id": "c0a05347",
   "metadata": {},
   "outputs": [],
   "source": [
    "def minplus_fp(X):\n",
    "    rounds = 0\n",
    "    lastY = torch.zeros_like(X)\n",
    "    Y = X\n",
    "    while not(torch.equal(Y, lastY)):\n",
    "        lastY = Y\n",
    "        Y = minplus_loop(Y, Y)\n",
    "        rounds += 1\n",
    "    return Y, rounds"
   ]
  },
  {
   "cell_type": "code",
   "execution_count": 81,
   "id": "14357ec3",
   "metadata": {},
   "outputs": [
    {
     "data": {
      "text/plain": [
       "(tensor([[0., 1., 2., 5.],\n",
       "         [1., 0., 2., 5.],\n",
       "         [2., 2., 0., 3.],\n",
       "         [5., 5., 3., 0.]]),\n",
       " 2)"
      ]
     },
     "execution_count": 81,
     "metadata": {},
     "output_type": "execute_result"
    }
   ],
   "source": [
    "minplus_fp(distances)"
   ]
  },
  {
   "cell_type": "markdown",
   "id": "fada5784",
   "metadata": {},
   "source": [
    "It turns out that after just the two rounds, the fixpoint is reached.\n",
    "\n",
    "> **Digression:** The complexity of `minplus` as implemented is $O(n^3)$, and the fixpoint computation may need up to $\\log n$ calls to `minplus` to converge, so the overall complexity is $O(n^3 \\log n)$. More efficient algorithms are known, especially the Floyd-Warshall algorithm for the all-paths versions and Dijkstra's algorithm for the single-source version. But algorithmic efficiency is not our main aim here.\n",
    "\n",
    "Let's try a bigger example, a graph with 10 nodes."
   ]
  },
  {
   "cell_type": "code",
   "execution_count": 82,
   "id": "6aad24e2",
   "metadata": {},
   "outputs": [
    {
     "data": {
      "text/plain": [
       "tensor([[0.0000, 0.3003, 0.8418, 0.1450, 0.6578, 0.7986, 0.7631, 0.0636, 0.7440,\n",
       "         0.4721],\n",
       "        [0.0539, 0.0000, 0.8834, 0.4523, 0.0455, 0.3377, 0.3075, 0.2246, 0.9063,\n",
       "         0.1964],\n",
       "        [0.2320, 0.8254, 0.0000, 0.6503, 0.1322, 0.9731, 0.1862, 0.9409, 0.3250,\n",
       "         0.4796],\n",
       "        [0.4761, 0.2020, 0.0948, 0.0000, 0.1548, 0.7693, 0.3593, 0.3772, 0.2512,\n",
       "         0.8385],\n",
       "        [0.0836, 0.3538, 0.1302, 0.1082, 0.0000, 0.4554, 0.7718, 0.9094, 0.7989,\n",
       "         0.2226],\n",
       "        [0.4556, 0.6003, 0.2360, 0.5408, 0.7294, 0.0000, 0.3684, 0.4973, 0.3631,\n",
       "         0.9231],\n",
       "        [0.3964, 0.4988, 0.6321, 0.4032, 0.5037, 0.0728, 0.0000, 0.4736, 0.2703,\n",
       "         0.7356],\n",
       "        [0.3446, 0.3276, 0.0198, 0.2429, 0.0434, 0.0781, 0.8856, 0.0000, 0.4662,\n",
       "         0.7967],\n",
       "        [0.6085, 0.4381, 0.3656, 0.5973, 0.0650, 0.1599, 0.8713, 0.4087, 0.0000,\n",
       "         0.1601],\n",
       "        [0.3864, 0.8052, 0.4423, 0.7775, 0.0419, 0.9856, 0.5952, 0.9765, 0.3175,\n",
       "         0.0000]])"
      ]
     },
     "execution_count": 82,
     "metadata": {},
     "output_type": "execute_result"
    }
   ],
   "source": [
    "def random_square_tensor(size):\n",
    "    X = torch.rand(size, size)\n",
    "    for i in range(size):\n",
    "        X[i, i] = 0 \n",
    "    return X\n",
    "\n",
    "X = random_square_tensor(10)\n",
    "X"
   ]
  },
  {
   "cell_type": "code",
   "execution_count": 83,
   "id": "24dbcb5f",
   "metadata": {},
   "outputs": [
    {
     "data": {
      "text/plain": [
       "(tensor([[0.0000, 0.3003, 0.0833, 0.1450, 0.1070, 0.1417, 0.2695, 0.0636, 0.3962,\n",
       "          0.3296],\n",
       "         [0.0539, 0.0000, 0.1372, 0.1537, 0.0455, 0.1956, 0.3075, 0.1175, 0.4049,\n",
       "          0.1964],\n",
       "         [0.2158, 0.4423, 0.0000, 0.2403, 0.1322, 0.2589, 0.1862, 0.2794, 0.3250,\n",
       "          0.3547],\n",
       "         [0.2384, 0.2020, 0.0948, 0.0000, 0.1548, 0.3537, 0.2810, 0.3020, 0.2512,\n",
       "          0.3774],\n",
       "         [0.0836, 0.3102, 0.1302, 0.1082, 0.0000, 0.2253, 0.3164, 0.1472, 0.3594,\n",
       "          0.2226],\n",
       "         [0.4518, 0.6003, 0.2360, 0.4764, 0.3682, 0.0000, 0.3684, 0.4973, 0.3631,\n",
       "          0.5232],\n",
       "         [0.3964, 0.4988, 0.3088, 0.4032, 0.3353, 0.0728, 0.0000, 0.4600, 0.2703,\n",
       "          0.4304],\n",
       "         [0.1270, 0.3276, 0.0198, 0.1516, 0.0434, 0.0781, 0.2059, 0.0000, 0.3448,\n",
       "          0.2660],\n",
       "         [0.1485, 0.3751, 0.1952, 0.1731, 0.0650, 0.1599, 0.3813, 0.2121, 0.0000,\n",
       "          0.1601],\n",
       "         [0.1255, 0.3521, 0.1721, 0.1500, 0.0419, 0.2672, 0.3582, 0.1891, 0.3175,\n",
       "          0.0000]]),\n",
       " 3)"
      ]
     },
     "execution_count": 83,
     "metadata": {},
     "output_type": "execute_result"
    }
   ],
   "source": [
    "minplus_fp(X)"
   ]
  },
  {
   "cell_type": "markdown",
   "id": "df17feca",
   "metadata": {},
   "source": [
    "Now let's talk about the \"loop\"-y implementation of the `minplus` function. If we're a little cleverer, we can use list comprehensions to hide the computation of the minimum, but we're still doing the whole computation sequentially."
   ]
  },
  {
   "cell_type": "code",
   "execution_count": 84,
   "id": "374270b0",
   "metadata": {},
   "outputs": [
    {
     "data": {
      "text/plain": [
       "tensor([[2., 5.],\n",
       "        [5., 8.]])"
      ]
     },
     "execution_count": 84,
     "metadata": {},
     "output_type": "execute_result"
    }
   ],
   "source": [
    "def minplus_loop2(A, B):\n",
    "    (arows, acols), (brows, bcols) = A.size(), B.size()\n",
    "    assert acols == brows\n",
    "\n",
    "    R = torch.zeros(arows, bcols)\n",
    "    assert acols == brows\n",
    "    for i in range(arows):\n",
    "        for j in range(bcols):\n",
    "            R[i,j] = min([A[i,k] + B[k,j] for k in range(acols)])\n",
    "    return R\n",
    "\n",
    "minplus_loop2(test, test.transpose(0,1))"
   ]
  },
  {
   "cell_type": "markdown",
   "id": "b12c21da",
   "metadata": {},
   "source": [
    "The `torch`-y way to perform this computation is to rely on vectorized computations. Doing so is a bit tricky however. We need to reshape the matrices a bit. We start by turning the two-dimensional $A$ matrix from a $m \\times n$ matrix (rows by columns, which may differ in the general case) into a three-dimensional $m \\times 1 \\times n$ matrix. Here's the result of that operation on the $4 \\times 4$ `distances` matrix, using [the torch `view` method](https://pytorch.org/docs/stable/tensor_view.html). We'll refer to the reshaped matrix below as the $A$ matrix henceforth. It will now be a tensor with 4 elements, each of which has 1 element, each of which has 4 elements (that are scalars)."
   ]
  },
  {
   "cell_type": "code",
   "execution_count": 85,
   "id": "0de09271",
   "metadata": {},
   "outputs": [
    {
     "data": {
      "text/plain": [
       "tensor([[[0., 1., 2., 6.]],\n",
       "\n",
       "        [[1., 0., 2., inf]],\n",
       "\n",
       "        [[2., 2., 0., 3.]],\n",
       "\n",
       "        [[6., inf, 3., 0.]]])"
      ]
     },
     "execution_count": 85,
     "metadata": {},
     "output_type": "execute_result"
    }
   ],
   "source": [
    "A = distances.view(4, 1, 4)\n",
    "A"
   ]
  },
  {
   "cell_type": "markdown",
   "id": "a1865c85",
   "metadata": {},
   "source": [
    "Now each row in the matrix contains a single element, a vector that corresponds to the column in the original. We'll do a similar operation on $B$ of shape $n \\times p$ (again, the `distances` matrix in our example), but this time reshaping the matrix to be $1 \\times p \\times n$. We'll refer to the reshaped matrix below as $B$. It will now be a tensor with just 1 element, and that element contains 4 elements, each of which contains 4 elements."
   ]
  },
  {
   "cell_type": "code",
   "execution_count": 86,
   "id": "e3335549",
   "metadata": {},
   "outputs": [
    {
     "data": {
      "text/plain": [
       "tensor([[[0., 1., 2., 6.],\n",
       "         [1., 0., 2., inf],\n",
       "         [2., 2., 0., 3.],\n",
       "         [6., inf, 3., 0.]]])"
      ]
     },
     "execution_count": 86,
     "metadata": {},
     "output_type": "execute_result"
    }
   ],
   "source": [
    "B = distances.view(1, 4, 4)\n",
    "B"
   ]
  },
  {
   "cell_type": "markdown",
   "id": "42b56402",
   "metadata": {},
   "source": [
    "Now if we add these two matrices componentwise, what do we get? Each of the four 1 $\\times$ 4 elements in $A$ corresponds to the same single 4 $\\times$ 4 element in $B$, so they'll be added componentwise; that single element in $B$ will be \"broadcast\" to each of the rows in $A$. Thus, the first element in $A$ (`[[0., 1., 2., 6.]]` in the example) is to be added to the single element in $B$ (`[[0., 1., 2., 6.], [1., 0., 2., inf], [2., 2., 0., 3.], [5., inf, 3., 0.]]` in the example). How does this work? Going one more level in, we now have that the single 4-element element `[0., 1., 2., 6.]` in $A$ corresponds to (and will be broadcast to) each of the four 4-element elements in the single element in $B$ (the first of which is also `[0., 1., 2., 6.]`). Now, we've reached a set of elements that are all the same size as the element to be broadcast, so they are added elementwise, yielding `[0., 2., 4., 12.]` as the first summed 4-element element. The same thing happens for each of the other three elements in the reshaped $B$ matrix element. Zooming out one step, we repeat this procedure for each of the other three 1 $\\times$ 4 elements of $A$, broadcasting them onto the single 4 $\\times$ 4 element of $B$. When all is said and done, we'll have an $m \\times p \\times n$ matrix. Each outermost element of the summed matrix corresponds to a broadcast of a 1 $\\times$ 4 element of $A$ onto the 4 $\\times$ 4 element of $B$.\n",
    "\n",
    "As another way to understand this process, we want to compute the elementwise sum of a matrix $A$ of size 4 $\\times$ 1 $\\times$ 4 with another matrix $B$ of size 1 $\\times$ 4 $\\times$ 4. If both matrices were of size 4 $\\times$ 4 $\\times$ 4, there would be no problem. However, the first dimension of $A$ is of size 4 whereas the first dimension of $B$ is of size 1. Therefore, we repeat $B$ 4 times along the first dimension, expanding it into a matrix of size 4 $\\times$ 4 $\\times$ 4. Now the first dimension works out, but the second dimension of $A$ is of size 1 whereas the second dimension of $B$ is of size 4, so we also need to repeat $A$ 4 times along the second dimension, expanding it into a matrix of 4 $\\times$ 4 $\\times$ 4. Now both $A$ and $B$ have been expanded into size 4 $\\times$ 4 $\\times$ 4, and we can directly compute their elementwise sum. This hidden expanding operation is exactly the broadcasting we've referred to above."
   ]
  },
  {
   "cell_type": "code",
   "execution_count": 87,
   "id": "d4c57eef",
   "metadata": {},
   "outputs": [
    {
     "data": {
      "text/plain": [
       "tensor([[[ 0.,  2.,  4., 12.],\n",
       "         [ 1.,  1.,  4., inf],\n",
       "         [ 2.,  3.,  2.,  9.],\n",
       "         [ 6., inf,  5.,  6.]],\n",
       "\n",
       "        [[ 1.,  1.,  4., inf],\n",
       "         [ 2.,  0.,  4., inf],\n",
       "         [ 3.,  2.,  2., inf],\n",
       "         [ 7., inf,  5., inf]],\n",
       "\n",
       "        [[ 2.,  3.,  2.,  9.],\n",
       "         [ 3.,  2.,  2., inf],\n",
       "         [ 4.,  4.,  0.,  6.],\n",
       "         [ 8., inf,  3.,  3.]],\n",
       "\n",
       "        [[ 6., inf,  5.,  6.],\n",
       "         [ 7., inf,  5., inf],\n",
       "         [ 8., inf,  3.,  3.],\n",
       "         [12., inf,  6.,  0.]]])"
      ]
     },
     "execution_count": 87,
     "metadata": {},
     "output_type": "execute_result"
    }
   ],
   "source": [
    "summed = distances.view(4, 1, 4) + distances.view(1, 4, 4)\n",
    "summed"
   ]
  },
  {
   "cell_type": "markdown",
   "id": "61870c71",
   "metadata": {},
   "source": [
    "How does this matrix translate to the $A_{ik} + B_{kj}$ additions we did before? To illustrate by example (indexing starting from 0), let's think about $(A \\star B)_{1, 2} = \\min_k A_{1, k} + B_{k, 2}$, where $A$ and $B$ now refer to the original 4 $\\times$ 4 `distances` matrix that we started with. The $A_{1, k}$s would be found in the second element of `summed`, which is where we broadcasted the second (index 1) row of $A$. Since this matrix is symmetric, the $B_{k, 2}$'s would be equivalent to the $B_{2, k}$'s, which would be found in the second row of each element of `summed`. Taking these two pieces of information together, we then look at the second row of the second element of `summed`. Indeed, $A_{1, 0} + B_{0, 2} = A_{1, 0} + B_{2, 0}$ would be the first element in the third row of the second element of `summed`, and this is true for each $k$. This tells us that to find our `minplus` result, we just need to find the minimum of each row of every element of `summed` (using the `min` method), and there are $4 \\cdot 4$ such rows. Note that this solution only works for symmetric matrices - for non-symmetric matrices, you'll need to transpose `distances` before you reshape it into a $1 \\times 4 \\times 4$ tensor."
   ]
  },
  {
   "cell_type": "markdown",
   "id": "94eaa5a5",
   "metadata": {
    "deletable": false,
    "editable": false
   },
   "source": [
    "<!--\n",
    "BEGIN QUESTION\n",
    "name: minplus_v_example\n",
    "-->\n",
    "Calculate the result of the `minplus` by performing appropriate operations on `summed` to yield a tensor that should be identical to the `minplus_loop(distances, distances)` example above."
   ]
  },
  {
   "cell_type": "code",
   "execution_count": 117,
   "id": "6ebb344c",
   "metadata": {},
   "outputs": [
    {
     "data": {
      "text/plain": [
       "torch.Size([4, 4, 4])"
      ]
     },
     "execution_count": 117,
     "metadata": {},
     "output_type": "execute_result"
    }
   ],
   "source": [
    "#TODO find the minimum of each row of every element of summed (using the min method)\n",
    "result = summed.min(-1).values \n",
    "result"
   ]
  },
  {
   "cell_type": "code",
   "execution_count": 115,
   "id": "8cb45b38",
   "metadata": {
    "deletable": false,
    "editable": false
   },
   "outputs": [
    {
     "data": {
      "text/html": [
       "\n",
       "    \n",
       "    \n",
       "        <p>All tests passed!</p>\n",
       "    \n",
       "    "
      ],
      "text/plain": [
       "\n",
       "    All tests passed!\n",
       "    "
      ]
     },
     "execution_count": 115,
     "metadata": {},
     "output_type": "execute_result"
    }
   ],
   "source": [
    "grader.check(\"minplus_v_example\")"
   ]
  },
  {
   "cell_type": "markdown",
   "id": "8d4b8d5d",
   "metadata": {
    "deletable": false,
    "editable": false
   },
   "source": [
    "Now that you've seen an example of how the matrices can be reshaped and operated on to implement the `minplus` operation, write a function `minplus_v` (a \"vectorized\" version of `minplus_loop`) that computes the minplus of two rectangular matrices without using any looping constructs.\n",
    "<!--\n",
    "BEGIN QUESTION\n",
    "name: minplus_v\n",
    "-->"
   ]
  },
  {
   "cell_type": "code",
   "execution_count": 125,
   "id": "c7536baa",
   "metadata": {},
   "outputs": [],
   "source": [
    "#TODO\n",
    "def minplus_v(A, B):\n",
    "    #Reshaping 𝐴 from a  𝑚×𝑛 to 𝑚×1×𝑛 matrix.\n",
    "    A = distances.view(A.size(0), 1, A.size(1))\n",
    "    \n",
    "    #Reshaping B to be  1×𝑝×𝑛\n",
    "    B = distances.view(1, B.size(0), B.size(1))\n",
    "    \n",
    "    #Find the minimum of each row of every element\n",
    "    summed = A + B\n",
    "    result = summed.min(-1).values \n",
    "    \n",
    "    return result"
   ]
  },
  {
   "cell_type": "code",
   "execution_count": 126,
   "id": "6e12bab6",
   "metadata": {
    "deletable": false,
    "editable": false
   },
   "outputs": [
    {
     "data": {
      "text/html": [
       "\n",
       "    \n",
       "    \n",
       "        <p>All tests passed!</p>\n",
       "    \n",
       "    "
      ],
      "text/plain": [
       "\n",
       "    All tests passed!\n",
       "    "
      ]
     },
     "execution_count": 126,
     "metadata": {},
     "output_type": "execute_result"
    }
   ],
   "source": [
    "grader.check(\"minplus_v\")"
   ]
  },
  {
   "cell_type": "markdown",
   "id": "4c286b35",
   "metadata": {},
   "source": [
    "Finally, we'll use your vectorized `minplus_v` to implement a vectorized fixpoint calculation, and test the relative speeds."
   ]
  },
  {
   "cell_type": "code",
   "execution_count": 127,
   "id": "15133ad0",
   "metadata": {},
   "outputs": [],
   "source": [
    "def minplus_vfp(X):\n",
    "    rounds = 0\n",
    "    lastY = torch.zeros_like(X)\n",
    "    Y = X\n",
    "    while not(torch.equal(Y, lastY)):\n",
    "        lastY = Y\n",
    "        Y = minplus_v(Y, Y)\n",
    "        rounds += 1\n",
    "    return Y, rounds"
   ]
  },
  {
   "cell_type": "code",
   "execution_count": 128,
   "id": "eee5f3e0",
   "metadata": {},
   "outputs": [
    {
     "data": {
      "text/plain": [
       "(tensor([[0., 1., 2., 5.],\n",
       "         [1., 0., 2., 5.],\n",
       "         [2., 2., 0., 3.],\n",
       "         [5., 5., 3., 0.]]),\n",
       " 2)"
      ]
     },
     "execution_count": 128,
     "metadata": {},
     "output_type": "execute_result"
    }
   ],
   "source": [
    "minplus_vfp(distances)"
   ]
  },
  {
   "cell_type": "code",
   "execution_count": 129,
   "id": "1b55e1db",
   "metadata": {},
   "outputs": [
    {
     "data": {
      "text/plain": [
       "2.7328780040006677"
      ]
     },
     "execution_count": 129,
     "metadata": {},
     "output_type": "execute_result"
    }
   ],
   "source": [
    "example = random_square_tensor(20)\n",
    "\n",
    "timeit('minplus_fp(example)', number=10, globals=globals())"
   ]
  },
  {
   "cell_type": "code",
   "execution_count": 130,
   "id": "7e8c6f66",
   "metadata": {},
   "outputs": [
    {
     "ename": "RuntimeError",
     "evalue": "shape '[20, 1, 20]' is invalid for input of size 16",
     "output_type": "error",
     "traceback": [
      "\u001b[0;31m---------------------------------------------------------------------------\u001b[0m",
      "\u001b[0;31mRuntimeError\u001b[0m                              Traceback (most recent call last)",
      "Cell \u001b[0;32mIn[130], line 1\u001b[0m\n\u001b[0;32m----> 1\u001b[0m \u001b[43mtimeit\u001b[49m\u001b[43m(\u001b[49m\u001b[38;5;124;43m'\u001b[39;49m\u001b[38;5;124;43mminplus_vfp(example)\u001b[39;49m\u001b[38;5;124;43m'\u001b[39;49m\u001b[43m,\u001b[49m\u001b[43m \u001b[49m\u001b[43mnumber\u001b[49m\u001b[38;5;241;43m=\u001b[39;49m\u001b[38;5;241;43m10\u001b[39;49m\u001b[43m,\u001b[49m\u001b[43m \u001b[49m\u001b[38;5;28;43mglobals\u001b[39;49m\u001b[38;5;241;43m=\u001b[39;49m\u001b[38;5;28;43mglobals\u001b[39;49m\u001b[43m(\u001b[49m\u001b[43m)\u001b[49m\u001b[43m)\u001b[49m\n",
      "File \u001b[0;32m~/45807HOME/miniconda/envs/cs187/lib/python3.8/timeit.py:233\u001b[0m, in \u001b[0;36mtimeit\u001b[0;34m(stmt, setup, timer, number, globals)\u001b[0m\n\u001b[1;32m    230\u001b[0m \u001b[38;5;28;01mdef\u001b[39;00m \u001b[38;5;21mtimeit\u001b[39m(stmt\u001b[38;5;241m=\u001b[39m\u001b[38;5;124m\"\u001b[39m\u001b[38;5;124mpass\u001b[39m\u001b[38;5;124m\"\u001b[39m, setup\u001b[38;5;241m=\u001b[39m\u001b[38;5;124m\"\u001b[39m\u001b[38;5;124mpass\u001b[39m\u001b[38;5;124m\"\u001b[39m, timer\u001b[38;5;241m=\u001b[39mdefault_timer,\n\u001b[1;32m    231\u001b[0m            number\u001b[38;5;241m=\u001b[39mdefault_number, \u001b[38;5;28mglobals\u001b[39m\u001b[38;5;241m=\u001b[39m\u001b[38;5;28;01mNone\u001b[39;00m):\n\u001b[1;32m    232\u001b[0m \u001b[38;5;250m    \u001b[39m\u001b[38;5;124;03m\"\"\"Convenience function to create Timer object and call timeit method.\"\"\"\u001b[39;00m\n\u001b[0;32m--> 233\u001b[0m     \u001b[38;5;28;01mreturn\u001b[39;00m \u001b[43mTimer\u001b[49m\u001b[43m(\u001b[49m\u001b[43mstmt\u001b[49m\u001b[43m,\u001b[49m\u001b[43m \u001b[49m\u001b[43msetup\u001b[49m\u001b[43m,\u001b[49m\u001b[43m \u001b[49m\u001b[43mtimer\u001b[49m\u001b[43m,\u001b[49m\u001b[43m \u001b[49m\u001b[38;5;28;43mglobals\u001b[39;49m\u001b[43m)\u001b[49m\u001b[38;5;241;43m.\u001b[39;49m\u001b[43mtimeit\u001b[49m\u001b[43m(\u001b[49m\u001b[43mnumber\u001b[49m\u001b[43m)\u001b[49m\n",
      "File \u001b[0;32m~/45807HOME/miniconda/envs/cs187/lib/python3.8/timeit.py:177\u001b[0m, in \u001b[0;36mTimer.timeit\u001b[0;34m(self, number)\u001b[0m\n\u001b[1;32m    175\u001b[0m gc\u001b[38;5;241m.\u001b[39mdisable()\n\u001b[1;32m    176\u001b[0m \u001b[38;5;28;01mtry\u001b[39;00m:\n\u001b[0;32m--> 177\u001b[0m     timing \u001b[38;5;241m=\u001b[39m \u001b[38;5;28;43mself\u001b[39;49m\u001b[38;5;241;43m.\u001b[39;49m\u001b[43minner\u001b[49m\u001b[43m(\u001b[49m\u001b[43mit\u001b[49m\u001b[43m,\u001b[49m\u001b[43m \u001b[49m\u001b[38;5;28;43mself\u001b[39;49m\u001b[38;5;241;43m.\u001b[39;49m\u001b[43mtimer\u001b[49m\u001b[43m)\u001b[49m\n\u001b[1;32m    178\u001b[0m \u001b[38;5;28;01mfinally\u001b[39;00m:\n\u001b[1;32m    179\u001b[0m     \u001b[38;5;28;01mif\u001b[39;00m gcold:\n",
      "File \u001b[0;32m<timeit-src>:6\u001b[0m, in \u001b[0;36minner\u001b[0;34m(_it, _timer)\u001b[0m\n",
      "Cell \u001b[0;32mIn[127], line 7\u001b[0m, in \u001b[0;36mminplus_vfp\u001b[0;34m(X)\u001b[0m\n\u001b[1;32m      5\u001b[0m \u001b[38;5;28;01mwhile\u001b[39;00m \u001b[38;5;129;01mnot\u001b[39;00m(torch\u001b[38;5;241m.\u001b[39mequal(Y, lastY)):\n\u001b[1;32m      6\u001b[0m     lastY \u001b[38;5;241m=\u001b[39m Y\n\u001b[0;32m----> 7\u001b[0m     Y \u001b[38;5;241m=\u001b[39m \u001b[43mminplus_v\u001b[49m\u001b[43m(\u001b[49m\u001b[43mY\u001b[49m\u001b[43m,\u001b[49m\u001b[43m \u001b[49m\u001b[43mY\u001b[49m\u001b[43m)\u001b[49m\n\u001b[1;32m      8\u001b[0m     rounds \u001b[38;5;241m+\u001b[39m\u001b[38;5;241m=\u001b[39m \u001b[38;5;241m1\u001b[39m\n\u001b[1;32m      9\u001b[0m \u001b[38;5;28;01mreturn\u001b[39;00m Y, rounds\n",
      "Cell \u001b[0;32mIn[125], line 4\u001b[0m, in \u001b[0;36mminplus_v\u001b[0;34m(A, B)\u001b[0m\n\u001b[1;32m      2\u001b[0m \u001b[38;5;28;01mdef\u001b[39;00m \u001b[38;5;21mminplus_v\u001b[39m(A, B):\n\u001b[1;32m      3\u001b[0m     \u001b[38;5;66;03m#Reshaping 𝐴 from a  𝑚×𝑛 to 𝑚×1×𝑛 matrix.\u001b[39;00m\n\u001b[0;32m----> 4\u001b[0m     A \u001b[38;5;241m=\u001b[39m \u001b[43mdistances\u001b[49m\u001b[38;5;241;43m.\u001b[39;49m\u001b[43mview\u001b[49m\u001b[43m(\u001b[49m\u001b[43mA\u001b[49m\u001b[38;5;241;43m.\u001b[39;49m\u001b[43msize\u001b[49m\u001b[43m(\u001b[49m\u001b[38;5;241;43m0\u001b[39;49m\u001b[43m)\u001b[49m\u001b[43m,\u001b[49m\u001b[43m \u001b[49m\u001b[38;5;241;43m1\u001b[39;49m\u001b[43m,\u001b[49m\u001b[43m \u001b[49m\u001b[43mA\u001b[49m\u001b[38;5;241;43m.\u001b[39;49m\u001b[43msize\u001b[49m\u001b[43m(\u001b[49m\u001b[38;5;241;43m1\u001b[39;49m\u001b[43m)\u001b[49m\u001b[43m)\u001b[49m\n\u001b[1;32m      6\u001b[0m     \u001b[38;5;66;03m#Reshaping B to be  1×𝑝×𝑛\u001b[39;00m\n\u001b[1;32m      7\u001b[0m     B \u001b[38;5;241m=\u001b[39m distances\u001b[38;5;241m.\u001b[39mview(\u001b[38;5;241m1\u001b[39m, B\u001b[38;5;241m.\u001b[39msize(\u001b[38;5;241m0\u001b[39m), B\u001b[38;5;241m.\u001b[39msize(\u001b[38;5;241m1\u001b[39m))\n",
      "\u001b[0;31mRuntimeError\u001b[0m: shape '[20, 1, 20]' is invalid for input of size 16"
     ]
    }
   ],
   "source": [
    "timeit('minplus_vfp(example)', number=10, globals=globals())"
   ]
  },
  {
   "cell_type": "markdown",
   "id": "ce406278",
   "metadata": {},
   "source": [
    "If you've implemented `minplus_v` correctly, the efficiency difference should be striking. This kind of engineered improvement is the difference between a computation taking a day and one taking a minute."
   ]
  },
  {
   "cell_type": "markdown",
   "id": "a029418b",
   "metadata": {},
   "source": [
    "# Submission Instructions\n",
    "\n",
    "This lab should be submitted to Gradescope at <http://go.cs187.info/lab0-1-submit>, which will be made available some time before the due date.\n",
    "\n",
    "Make sure that you have passed all public tests by running `grader.check_all()` below before submitting. Note that there are hidden tests on Gradescope, the results of which will be revealed after the submission deadline."
   ]
  },
  {
   "cell_type": "markdown",
   "id": "4dc7e960",
   "metadata": {},
   "source": [
    "# End of lab 0-1"
   ]
  },
  {
   "cell_type": "markdown",
   "id": "914acdbe",
   "metadata": {
    "deletable": false,
    "editable": false
   },
   "source": [
    "---\n",
    "\n",
    "To double-check your work, the cell below will rerun all of the autograder tests."
   ]
  },
  {
   "cell_type": "code",
   "execution_count": 131,
   "id": "0157c13d",
   "metadata": {
    "deletable": false,
    "editable": false
   },
   "outputs": [
    {
     "data": {
      "text/html": [
       "<p><strong>dotprod:</strong></p>\n",
       "\n",
       "    \n",
       "    \n",
       "        <p>All tests passed!</p>\n",
       "    \n",
       "    \n",
       "\n",
       "<p><strong>max_val:</strong></p>\n",
       "\n",
       "    \n",
       "    \n",
       "        <p>All tests passed!</p>\n",
       "    \n",
       "    \n",
       "\n",
       "<p><strong>minplus_v:</strong></p>\n",
       "\n",
       "    \n",
       "    \n",
       "        <p>All tests passed!</p>\n",
       "    \n",
       "    \n",
       "\n",
       "<p><strong>minplus_v_example:</strong></p>\n",
       "\n",
       "    \n",
       "    \n",
       "        <p>All tests passed!</p>\n",
       "    \n",
       "    \n",
       "\n"
      ],
      "text/plain": [
       "dotprod:\n",
       "\n",
       "    All tests passed!\n",
       "    \n",
       "\n",
       "max_val:\n",
       "\n",
       "    All tests passed!\n",
       "    \n",
       "\n",
       "minplus_v:\n",
       "\n",
       "    All tests passed!\n",
       "    \n",
       "\n",
       "minplus_v_example:\n",
       "\n",
       "    All tests passed!\n",
       "    \n"
      ]
     },
     "execution_count": 131,
     "metadata": {},
     "output_type": "execute_result"
    }
   ],
   "source": [
    "grader.check_all()"
   ]
  },
  {
   "cell_type": "code",
   "execution_count": null,
   "id": "c8b48d44",
   "metadata": {},
   "outputs": [],
   "source": []
  }
 ],
 "metadata": {
  "celltoolbar": "Tags",
  "kernelspec": {
   "display_name": "Python 3 (ipykernel)",
   "language": "python",
   "name": "python3"
  },
  "language_info": {
   "codemirror_mode": {
    "name": "ipython",
    "version": 3
   },
   "file_extension": ".py",
   "mimetype": "text/x-python",
   "name": "python",
   "nbconvert_exporter": "python",
   "pygments_lexer": "ipython3",
   "version": "3.8.3"
  },
  "title": "CS187 Lab 0-1: Tensors and vectorization"
 },
 "nbformat": 4,
 "nbformat_minor": 5
}
